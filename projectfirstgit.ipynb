{
 "cells": [
  {
   "cell_type": "code",
   "execution_count": 1,
   "metadata": {},
   "outputs": [],
   "source": [
    "import cv2,os"
   ]
  },
  {
   "cell_type": "code",
   "execution_count": 2,
   "metadata": {},
   "outputs": [],
   "source": [
    "data_path=\"D:\\mask_datasets\""
   ]
  },
  {
   "cell_type": "code",
   "execution_count": 3,
   "metadata": {},
   "outputs": [],
   "source": [
    "categories=os.listdir(data_path)"
   ]
  },
  {
   "cell_type": "code",
   "execution_count": 4,
   "metadata": {},
   "outputs": [],
   "source": [
    "labels=[i for i in range(len(categories))]"
   ]
  },
  {
   "cell_type": "code",
   "execution_count": 5,
   "metadata": {},
   "outputs": [],
   "source": [
    "label_dict=dict(zip(categories,labels))"
   ]
  },
  {
   "cell_type": "code",
   "execution_count": 6,
   "metadata": {},
   "outputs": [
    {
     "name": "stdout",
     "output_type": "stream",
     "text": [
      "{'without_mask': 0, 'with_mask': 1}\n",
      "['without_mask', 'with_mask']\n",
      "[0, 1]\n"
     ]
    }
   ],
   "source": [
    "print(label_dict)\n",
    "print(categories)\n",
    "print(labels)"
   ]
  },
  {
   "cell_type": "code",
   "execution_count": 7,
   "metadata": {},
   "outputs": [],
   "source": [
    "\n",
    "img_size=100\n",
    "data=[]\n",
    "target=[]\n",
    "\n",
    "\n",
    "for category in categories:\n",
    "    folder_path=os.path.join(data_path,category)\n",
    "    img_names=os.listdir(folder_path)\n",
    "        \n",
    "    for img_name in img_names:\n",
    "        img_path=os.path.join(folder_path,img_name)\n",
    "        img=cv2.imread(img_path)\n",
    "\n",
    "        try:\n",
    "            gray=cv2.cvtColor(img,cv2.COLOR_BGR2GRAY)           \n",
    "         \n",
    "            resized=cv2.resize(gray,(img_size,img_size))\n",
    "          \n",
    "            data.append(resized)\n",
    "            target.append(label_dict[category])\n",
    "           \n",
    "        except Exception as e:\n",
    "            print('Exception:',e)\n",
    "            "
   ]
  },
  {
   "cell_type": "code",
   "execution_count": 8,
   "metadata": {},
   "outputs": [],
   "source": [
    "import numpy as np\n",
    "data=np.array(data)/255.0\n",
    "data=np.reshape(data,(data.shape[0],img_size,img_size,1))\n",
    "target=np.array(target)\n",
    "from keras.utils import np_utils\n",
    "new_target=np_utils.to_categorical(target)"
   ]
  },
  {
   "cell_type": "code",
   "execution_count": 10,
   "metadata": {},
   "outputs": [
    {
     "data": {
      "text/plain": [
       "(1376, 2)"
      ]
     },
     "execution_count": 10,
     "metadata": {},
     "output_type": "execute_result"
    }
   ],
   "source": [
    "new_target.shape"
   ]
  },
  {
   "cell_type": "code",
   "execution_count": 11,
   "metadata": {},
   "outputs": [],
   "source": [
    "np.save('images.npy',data)\n",
    "np.save('lables.npy',new_target)"
   ]
  },
  {
   "cell_type": "code",
   "execution_count": 12,
   "metadata": {},
   "outputs": [],
   "source": [
    "import numpy as np"
   ]
  },
  {
   "cell_type": "code",
   "execution_count": 17,
   "metadata": {},
   "outputs": [],
   "source": [
    "data=np.load('images.npy')"
   ]
  },
  {
   "cell_type": "code",
   "execution_count": 18,
   "metadata": {},
   "outputs": [],
   "source": [
    "new_target=np.load('E:\\Project\\lables.npy')"
   ]
  },
  {
   "cell_type": "code",
   "execution_count": 19,
   "metadata": {},
   "outputs": [
    {
     "data": {
      "text/plain": [
       "(1376, 100, 100, 1)"
      ]
     },
     "execution_count": 19,
     "metadata": {},
     "output_type": "execute_result"
    }
   ],
   "source": [
    "data.shape\n"
   ]
  },
  {
   "cell_type": "code",
   "execution_count": 20,
   "metadata": {},
   "outputs": [
    {
     "data": {
      "text/plain": [
       "(100, 100, 1)"
      ]
     },
     "execution_count": 20,
     "metadata": {},
     "output_type": "execute_result"
    }
   ],
   "source": [
    "data.shape[1:]\n"
   ]
  },
  {
   "cell_type": "code",
   "execution_count": 21,
   "metadata": {},
   "outputs": [],
   "source": [
    "from keras.layers import Dense,Activation,Flatten,Dropout\n",
    "from keras.layers import Conv2D,MaxPooling2D\n",
    "from keras.callbacks import ModelCheckpoint\n",
    "import keras.models\n",
    "from keras.models import Sequential\n"
   ]
  },
  {
   "cell_type": "code",
   "execution_count": 22,
   "metadata": {},
   "outputs": [],
   "source": [
    "model=Sequential()\n",
    "\n",
    "model.add(Conv2D(200,(3,3),input_shape=data.shape[1:]))\n",
    "model.add(Activation('relu'))\n",
    "model.add(MaxPooling2D(pool_size=(2,2)))\n",
    "\n",
    "\n",
    "model.add(Conv2D(100,(3,3)))\n",
    "model.add(Activation('relu'))\n",
    "model.add(MaxPooling2D(pool_size=(2,2)))\n",
    "\n",
    "model.add(Flatten())\n",
    "model.add(Dropout(0.5))\n",
    "model.add(Dense(50,activation='relu'))\n",
    "model.add(Dense(2,activation='softmax'))\n",
    "\n",
    "model.compile(loss='categorical_crossentropy',optimizer='adam',metrics=['accuracy'])"
   ]
  },
  {
   "cell_type": "code",
   "execution_count": 23,
   "metadata": {},
   "outputs": [
    {
     "name": "stdout",
     "output_type": "stream",
     "text": [
      "Model: \"sequential\"\n",
      "_________________________________________________________________\n",
      "Layer (type)                 Output Shape              Param #   \n",
      "=================================================================\n",
      "conv2d (Conv2D)              (None, 98, 98, 200)       2000      \n",
      "_________________________________________________________________\n",
      "activation (Activation)      (None, 98, 98, 200)       0         \n",
      "_________________________________________________________________\n",
      "max_pooling2d (MaxPooling2D) (None, 49, 49, 200)       0         \n",
      "_________________________________________________________________\n",
      "conv2d_1 (Conv2D)            (None, 47, 47, 100)       180100    \n",
      "_________________________________________________________________\n",
      "activation_1 (Activation)    (None, 47, 47, 100)       0         \n",
      "_________________________________________________________________\n",
      "max_pooling2d_1 (MaxPooling2 (None, 23, 23, 100)       0         \n",
      "_________________________________________________________________\n",
      "flatten (Flatten)            (None, 52900)             0         \n",
      "_________________________________________________________________\n",
      "dropout (Dropout)            (None, 52900)             0         \n",
      "_________________________________________________________________\n",
      "dense (Dense)                (None, 50)                2645050   \n",
      "_________________________________________________________________\n",
      "dense_1 (Dense)              (None, 2)                 102       \n",
      "=================================================================\n",
      "Total params: 2,827,252\n",
      "Trainable params: 2,827,252\n",
      "Non-trainable params: 0\n",
      "_________________________________________________________________\n"
     ]
    }
   ],
   "source": [
    "model.summary()\n"
   ]
  },
  {
   "cell_type": "code",
   "execution_count": 24,
   "metadata": {},
   "outputs": [],
   "source": [
    "from sklearn.model_selection import train_test_split\n",
    "train_data,test_data,train_target,test_target=train_test_split(data,new_target,test_size=0.1)"
   ]
  },
  {
   "cell_type": "code",
   "execution_count": 25,
   "metadata": {},
   "outputs": [
    {
     "data": {
      "text/plain": [
       "(1238, 100, 100, 1)"
      ]
     },
     "execution_count": 25,
     "metadata": {},
     "output_type": "execute_result"
    }
   ],
   "source": [
    "train_data.shape\n"
   ]
  },
  {
   "cell_type": "code",
   "execution_count": 26,
   "metadata": {},
   "outputs": [
    {
     "data": {
      "text/plain": [
       "(1238, 2)"
      ]
     },
     "execution_count": 26,
     "metadata": {},
     "output_type": "execute_result"
    }
   ],
   "source": [
    "train_target.shape\n"
   ]
  },
  {
   "cell_type": "code",
   "execution_count": 27,
   "metadata": {},
   "outputs": [
    {
     "name": "stdout",
     "output_type": "stream",
     "text": [
      "Epoch 1/100\n",
      "31/31 [==============================] - 85s 2s/step - loss: 0.8024 - accuracy: 0.5169 - val_loss: 0.6528 - val_accuracy: 0.7298\n",
      "INFO:tensorflow:Assets written to: model-001.model\\assets\n",
      "Epoch 2/100\n",
      "31/31 [==============================] - 67s 2s/step - loss: 0.6217 - accuracy: 0.6575 - val_loss: 0.5033 - val_accuracy: 0.8427\n",
      "INFO:tensorflow:Assets written to: model-002.model\\assets\n",
      "Epoch 3/100\n",
      "31/31 [==============================] - 65s 2s/step - loss: 0.5291 - accuracy: 0.7337 - val_loss: 0.3321 - val_accuracy: 0.8629\n",
      "INFO:tensorflow:Assets written to: model-003.model\\assets\n",
      "Epoch 4/100\n",
      "31/31 [==============================] - 66s 2s/step - loss: 0.3175 - accuracy: 0.8666 - val_loss: 0.2607 - val_accuracy: 0.9194\n",
      "INFO:tensorflow:Assets written to: model-004.model\\assets\n",
      "Epoch 5/100\n",
      "31/31 [==============================] - 68s 2s/step - loss: 0.2310 - accuracy: 0.9121 - val_loss: 0.2611 - val_accuracy: 0.8629\n",
      "Epoch 6/100\n",
      "31/31 [==============================] - 70s 2s/step - loss: 0.1963 - accuracy: 0.9187 - val_loss: 0.1579 - val_accuracy: 0.9435\n",
      "INFO:tensorflow:Assets written to: model-006.model\\assets\n",
      "Epoch 7/100\n",
      "31/31 [==============================] - 70s 2s/step - loss: 0.1387 - accuracy: 0.9488 - val_loss: 0.1411 - val_accuracy: 0.9395\n",
      "INFO:tensorflow:Assets written to: model-007.model\\assets\n",
      "Epoch 8/100\n",
      "31/31 [==============================] - 75s 2s/step - loss: 0.1143 - accuracy: 0.9583 - val_loss: 0.1223 - val_accuracy: 0.9556\n",
      "INFO:tensorflow:Assets written to: model-008.model\\assets\n",
      "Epoch 9/100\n",
      "31/31 [==============================] - 75s 2s/step - loss: 0.0768 - accuracy: 0.9771 - val_loss: 0.1254 - val_accuracy: 0.9516\n",
      "Epoch 10/100\n",
      "31/31 [==============================] - 68s 2s/step - loss: 0.0636 - accuracy: 0.9778 - val_loss: 0.1104 - val_accuracy: 0.9597\n",
      "INFO:tensorflow:Assets written to: model-010.model\\assets\n",
      "Epoch 11/100\n",
      "31/31 [==============================] - 66s 2s/step - loss: 0.0511 - accuracy: 0.9841 - val_loss: 0.1171 - val_accuracy: 0.9516\n",
      "Epoch 12/100\n",
      "31/31 [==============================] - 66s 2s/step - loss: 0.0507 - accuracy: 0.9850 - val_loss: 0.1672 - val_accuracy: 0.9355\n",
      "Epoch 13/100\n",
      "31/31 [==============================] - 65s 2s/step - loss: 0.0869 - accuracy: 0.9660 - val_loss: 0.1654 - val_accuracy: 0.9355\n",
      "Epoch 14/100\n",
      "31/31 [==============================] - 66s 2s/step - loss: 0.0435 - accuracy: 0.9857 - val_loss: 0.1175 - val_accuracy: 0.9476\n",
      "Epoch 15/100\n",
      "31/31 [==============================] - 65s 2s/step - loss: 0.0374 - accuracy: 0.9812 - val_loss: 0.0956 - val_accuracy: 0.9556\n",
      "INFO:tensorflow:Assets written to: model-015.model\\assets\n",
      "Epoch 16/100\n",
      "31/31 [==============================] - 72s 2s/step - loss: 0.0422 - accuracy: 0.9837 - val_loss: 0.0984 - val_accuracy: 0.9677\n",
      "Epoch 17/100\n",
      "31/31 [==============================] - 74s 2s/step - loss: 0.0199 - accuracy: 0.9964 - val_loss: 0.1367 - val_accuracy: 0.9597\n",
      "Epoch 18/100\n",
      "31/31 [==============================] - 69s 2s/step - loss: 0.0249 - accuracy: 0.9893 - val_loss: 0.0934 - val_accuracy: 0.9677\n",
      "INFO:tensorflow:Assets written to: model-018.model\\assets\n",
      "Epoch 19/100\n",
      "31/31 [==============================] - 75s 2s/step - loss: 0.0234 - accuracy: 0.9902 - val_loss: 0.1100 - val_accuracy: 0.9556\n",
      "Epoch 20/100\n",
      "31/31 [==============================] - 76s 2s/step - loss: 0.0166 - accuracy: 0.9935 - val_loss: 0.1522 - val_accuracy: 0.9516\n",
      "Epoch 21/100\n",
      "31/31 [==============================] - 73s 2s/step - loss: 0.0210 - accuracy: 0.9899 - val_loss: 0.0985 - val_accuracy: 0.9476\n",
      "Epoch 22/100\n",
      "31/31 [==============================] - 72s 2s/step - loss: 0.0175 - accuracy: 0.9949 - val_loss: 0.0770 - val_accuracy: 0.9677\n",
      "INFO:tensorflow:Assets written to: model-022.model\\assets\n",
      "Epoch 23/100\n",
      "31/31 [==============================] - 73s 2s/step - loss: 0.0277 - accuracy: 0.9884 - val_loss: 0.2248 - val_accuracy: 0.9355\n",
      "Epoch 24/100\n",
      "31/31 [==============================] - 66s 2s/step - loss: 0.0267 - accuracy: 0.9877 - val_loss: 0.1490 - val_accuracy: 0.9476\n",
      "Epoch 25/100\n",
      "31/31 [==============================] - 65s 2s/step - loss: 0.0384 - accuracy: 0.9834 - val_loss: 0.0989 - val_accuracy: 0.9516\n",
      "Epoch 26/100\n",
      "31/31 [==============================] - 70s 2s/step - loss: 0.0168 - accuracy: 0.9937 - val_loss: 0.0785 - val_accuracy: 0.9677\n",
      "Epoch 27/100\n",
      "31/31 [==============================] - 68s 2s/step - loss: 0.0161 - accuracy: 0.9926 - val_loss: 0.0824 - val_accuracy: 0.9637\n",
      "Epoch 28/100\n",
      "31/31 [==============================] - 64s 2s/step - loss: 0.0122 - accuracy: 0.9940 - val_loss: 0.1192 - val_accuracy: 0.9597\n",
      "Epoch 29/100\n",
      "31/31 [==============================] - 66s 2s/step - loss: 0.0329 - accuracy: 0.9887 - val_loss: 0.1346 - val_accuracy: 0.9435\n",
      "Epoch 30/100\n",
      "31/31 [==============================] - 71s 2s/step - loss: 0.0139 - accuracy: 0.9964 - val_loss: 0.2043 - val_accuracy: 0.9355\n",
      "Epoch 31/100\n",
      "31/31 [==============================] - 71s 2s/step - loss: 0.0138 - accuracy: 0.9967 - val_loss: 0.1078 - val_accuracy: 0.9637\n",
      "Epoch 32/100\n",
      "31/31 [==============================] - 72s 2s/step - loss: 0.0175 - accuracy: 0.9953 - val_loss: 0.1250 - val_accuracy: 0.9556\n",
      "Epoch 33/100\n",
      "31/31 [==============================] - 72s 2s/step - loss: 0.0082 - accuracy: 0.9948 - val_loss: 0.0949 - val_accuracy: 0.9677\n",
      "Epoch 34/100\n",
      "31/31 [==============================] - 73s 2s/step - loss: 0.0096 - accuracy: 0.9974 - val_loss: 0.1012 - val_accuracy: 0.9516\n",
      "Epoch 35/100\n",
      "31/31 [==============================] - 71s 2s/step - loss: 0.0054 - accuracy: 0.9983 - val_loss: 0.1148 - val_accuracy: 0.9556\n",
      "Epoch 36/100\n",
      "31/31 [==============================] - 72s 2s/step - loss: 0.0034 - accuracy: 0.9993 - val_loss: 0.0991 - val_accuracy: 0.9556\n",
      "Epoch 37/100\n",
      "31/31 [==============================] - 69s 2s/step - loss: 0.0067 - accuracy: 0.9985 - val_loss: 0.0798 - val_accuracy: 0.9718\n",
      "Epoch 38/100\n",
      "31/31 [==============================] - 70s 2s/step - loss: 0.0350 - accuracy: 0.9893 - val_loss: 0.1061 - val_accuracy: 0.9435\n",
      "Epoch 39/100\n",
      "31/31 [==============================] - 71s 2s/step - loss: 0.0235 - accuracy: 0.9962 - val_loss: 0.0893 - val_accuracy: 0.9718\n",
      "Epoch 40/100\n",
      "31/31 [==============================] - 65s 2s/step - loss: 0.0533 - accuracy: 0.9831 - val_loss: 0.0833 - val_accuracy: 0.9677\n",
      "Epoch 41/100\n",
      "31/31 [==============================] - 71s 2s/step - loss: 0.0144 - accuracy: 0.9960 - val_loss: 0.1072 - val_accuracy: 0.9637\n",
      "Epoch 42/100\n",
      "31/31 [==============================] - 69s 2s/step - loss: 0.0045 - accuracy: 0.9996 - val_loss: 0.1480 - val_accuracy: 0.9476\n",
      "Epoch 43/100\n",
      "31/31 [==============================] - 78s 3s/step - loss: 0.0067 - accuracy: 0.9976 - val_loss: 0.0776 - val_accuracy: 0.9758\n",
      "Epoch 44/100\n",
      "31/31 [==============================] - 82s 3s/step - loss: 0.0266 - accuracy: 0.9891 - val_loss: 0.1745 - val_accuracy: 0.9476\n",
      "Epoch 45/100\n",
      "31/31 [==============================] - 88s 3s/step - loss: 0.0274 - accuracy: 0.9909 - val_loss: 0.1074 - val_accuracy: 0.9597\n",
      "Epoch 46/100\n",
      "31/31 [==============================] - 69s 2s/step - loss: 0.0302 - accuracy: 0.9913 - val_loss: 0.0953 - val_accuracy: 0.9597\n",
      "Epoch 47/100\n",
      "31/31 [==============================] - 71s 2s/step - loss: 0.0057 - accuracy: 0.9990 - val_loss: 0.0996 - val_accuracy: 0.9637\n",
      "Epoch 48/100\n",
      "31/31 [==============================] - 70s 2s/step - loss: 0.0030 - accuracy: 0.9989 - val_loss: 0.0894 - val_accuracy: 0.9677\n",
      "Epoch 49/100\n",
      "31/31 [==============================] - 69s 2s/step - loss: 0.0048 - accuracy: 0.9987 - val_loss: 0.1010 - val_accuracy: 0.9556\n",
      "Epoch 50/100\n",
      "31/31 [==============================] - 70s 2s/step - loss: 0.0051 - accuracy: 0.9973 - val_loss: 0.0997 - val_accuracy: 0.9556\n",
      "Epoch 51/100\n",
      "31/31 [==============================] - 68s 2s/step - loss: 0.0022 - accuracy: 1.0000 - val_loss: 0.0873 - val_accuracy: 0.9677\n",
      "Epoch 52/100\n",
      "31/31 [==============================] - 70s 2s/step - loss: 0.0030 - accuracy: 0.9994 - val_loss: 0.1127 - val_accuracy: 0.9677\n",
      "Epoch 53/100\n",
      "31/31 [==============================] - 76s 2s/step - loss: 0.0162 - accuracy: 0.9916 - val_loss: 0.0776 - val_accuracy: 0.9758\n",
      "Epoch 54/100\n",
      "31/31 [==============================] - 66s 2s/step - loss: 0.0559 - accuracy: 0.9881 - val_loss: 0.1401 - val_accuracy: 0.9516\n",
      "Epoch 55/100\n",
      "31/31 [==============================] - 75s 2s/step - loss: 0.0276 - accuracy: 0.9910 - val_loss: 0.1537 - val_accuracy: 0.9476\n",
      "Epoch 56/100\n",
      "31/31 [==============================] - 68s 2s/step - loss: 0.0089 - accuracy: 0.9970 - val_loss: 0.1717 - val_accuracy: 0.9395\n",
      "Epoch 57/100\n",
      "31/31 [==============================] - 72s 2s/step - loss: 0.0046 - accuracy: 0.9996 - val_loss: 0.1425 - val_accuracy: 0.9395\n",
      "Epoch 58/100\n",
      "31/31 [==============================] - 69s 2s/step - loss: 0.0073 - accuracy: 0.9961 - val_loss: 0.1864 - val_accuracy: 0.9395\n",
      "Epoch 59/100\n",
      "31/31 [==============================] - 70s 2s/step - loss: 0.0090 - accuracy: 0.9966 - val_loss: 0.1128 - val_accuracy: 0.9677\n",
      "Epoch 60/100\n",
      "31/31 [==============================] - 68s 2s/step - loss: 0.0051 - accuracy: 1.0000 - val_loss: 0.1736 - val_accuracy: 0.9435\n",
      "Epoch 61/100\n",
      "31/31 [==============================] - 75s 2s/step - loss: 0.0251 - accuracy: 0.9975 - val_loss: 0.1065 - val_accuracy: 0.9637\n",
      "Epoch 62/100\n",
      "31/31 [==============================] - 71s 2s/step - loss: 0.0065 - accuracy: 0.9959 - val_loss: 0.1619 - val_accuracy: 0.9516\n",
      "Epoch 63/100\n",
      "31/31 [==============================] - 71s 2s/step - loss: 0.0157 - accuracy: 0.9948 - val_loss: 0.1697 - val_accuracy: 0.9355\n",
      "Epoch 64/100\n",
      "31/31 [==============================] - 67s 2s/step - loss: 0.0033 - accuracy: 1.0000 - val_loss: 0.1652 - val_accuracy: 0.9476\n",
      "Epoch 65/100\n",
      "31/31 [==============================] - 75s 2s/step - loss: 0.0022 - accuracy: 0.9999 - val_loss: 0.1121 - val_accuracy: 0.9677\n",
      "Epoch 66/100\n",
      "31/31 [==============================] - 75s 2s/step - loss: 0.0034 - accuracy: 0.9989 - val_loss: 0.1074 - val_accuracy: 0.9718\n",
      "Epoch 67/100\n",
      "31/31 [==============================] - 69s 2s/step - loss: 7.4379e-04 - accuracy: 1.0000 - val_loss: 0.1040 - val_accuracy: 0.9758\n",
      "Epoch 68/100\n",
      "31/31 [==============================] - 75s 2s/step - loss: 0.0020 - accuracy: 1.0000 - val_loss: 0.1216 - val_accuracy: 0.9516\n",
      "Epoch 69/100\n",
      "31/31 [==============================] - 84s 3s/step - loss: 0.0113 - accuracy: 0.9983 - val_loss: 0.1337 - val_accuracy: 0.9556\n",
      "Epoch 70/100\n",
      "31/31 [==============================] - 86s 3s/step - loss: 0.0089 - accuracy: 0.9971 - val_loss: 0.1025 - val_accuracy: 0.9637\n",
      "Epoch 71/100\n",
      "31/31 [==============================] - 83s 3s/step - loss: 0.0099 - accuracy: 0.9939 - val_loss: 0.1363 - val_accuracy: 0.9677\n",
      "Epoch 72/100\n",
      "31/31 [==============================] - 81s 3s/step - loss: 0.0273 - accuracy: 0.9912 - val_loss: 0.1849 - val_accuracy: 0.9597\n",
      "Epoch 73/100\n",
      "31/31 [==============================] - 71s 2s/step - loss: 0.0155 - accuracy: 0.9943 - val_loss: 0.1032 - val_accuracy: 0.9718\n",
      "Epoch 74/100\n",
      "31/31 [==============================] - 66s 2s/step - loss: 0.0051 - accuracy: 0.9986 - val_loss: 0.1832 - val_accuracy: 0.9274\n",
      "Epoch 75/100\n",
      "31/31 [==============================] - 67s 2s/step - loss: 0.0040 - accuracy: 0.9975 - val_loss: 0.0908 - val_accuracy: 0.9718\n",
      "Epoch 76/100\n",
      "31/31 [==============================] - 67s 2s/step - loss: 0.0072 - accuracy: 0.9989 - val_loss: 0.0993 - val_accuracy: 0.9677\n",
      "Epoch 77/100\n",
      "31/31 [==============================] - 71s 2s/step - loss: 0.0104 - accuracy: 0.9960 - val_loss: 0.0860 - val_accuracy: 0.9758\n",
      "Epoch 78/100\n",
      "31/31 [==============================] - 70s 2s/step - loss: 0.0059 - accuracy: 0.9983 - val_loss: 0.1034 - val_accuracy: 0.9677\n",
      "Epoch 79/100\n",
      "31/31 [==============================] - 70s 2s/step - loss: 0.0096 - accuracy: 0.9957 - val_loss: 0.0847 - val_accuracy: 0.9798\n",
      "Epoch 80/100\n",
      "31/31 [==============================] - 69s 2s/step - loss: 0.0096 - accuracy: 0.9952 - val_loss: 0.0811 - val_accuracy: 0.9758\n",
      "Epoch 81/100\n",
      "31/31 [==============================] - 68s 2s/step - loss: 0.0033 - accuracy: 0.9987 - val_loss: 0.0732 - val_accuracy: 0.9798\n",
      "INFO:tensorflow:Assets written to: model-081.model\\assets\n",
      "Epoch 82/100\n",
      "31/31 [==============================] - 71s 2s/step - loss: 0.0013 - accuracy: 1.0000 - val_loss: 0.0717 - val_accuracy: 0.9758\n",
      "INFO:tensorflow:Assets written to: model-082.model\\assets\n",
      "Epoch 83/100\n",
      "31/31 [==============================] - 70s 2s/step - loss: 0.0040 - accuracy: 0.9999 - val_loss: 0.0737 - val_accuracy: 0.9798\n",
      "Epoch 84/100\n",
      "31/31 [==============================] - 71s 2s/step - loss: 0.0011 - accuracy: 1.0000 - val_loss: 0.0729 - val_accuracy: 0.9798\n",
      "Epoch 85/100\n",
      "31/31 [==============================] - 71s 2s/step - loss: 6.2906e-04 - accuracy: 1.0000 - val_loss: 0.0728 - val_accuracy: 0.9798\n",
      "Epoch 86/100\n",
      "31/31 [==============================] - 72s 2s/step - loss: 0.0068 - accuracy: 0.9977 - val_loss: 0.1246 - val_accuracy: 0.9556\n",
      "Epoch 87/100\n",
      "31/31 [==============================] - 74s 2s/step - loss: 0.0098 - accuracy: 0.9974 - val_loss: 0.1051 - val_accuracy: 0.9556\n",
      "Epoch 88/100\n",
      "31/31 [==============================] - 66s 2s/step - loss: 0.0042 - accuracy: 0.9984 - val_loss: 0.0727 - val_accuracy: 0.9758\n",
      "Epoch 89/100\n",
      "31/31 [==============================] - 64s 2s/step - loss: 0.0029 - accuracy: 0.9997 - val_loss: 0.0704 - val_accuracy: 0.9798\n",
      "INFO:tensorflow:Assets written to: model-089.model\\assets\n",
      "Epoch 90/100\n",
      "31/31 [==============================] - 66s 2s/step - loss: 0.0017 - accuracy: 0.9999 - val_loss: 0.1014 - val_accuracy: 0.9637\n",
      "Epoch 91/100\n",
      "31/31 [==============================] - 73s 2s/step - loss: 9.4257e-04 - accuracy: 1.0000 - val_loss: 0.0740 - val_accuracy: 0.9798\n",
      "Epoch 92/100\n",
      "31/31 [==============================] - 77s 2s/step - loss: 0.0020 - accuracy: 0.9991 - val_loss: 0.0679 - val_accuracy: 0.9839\n",
      "INFO:tensorflow:Assets written to: model-092.model\\assets\n",
      "Epoch 93/100\n",
      "31/31 [==============================] - 83s 3s/step - loss: 7.9724e-04 - accuracy: 1.0000 - val_loss: 0.0705 - val_accuracy: 0.9879\n",
      "Epoch 94/100\n",
      "31/31 [==============================] - 106s 3s/step - loss: 5.7702e-04 - accuracy: 1.0000 - val_loss: 0.0741 - val_accuracy: 0.9839\n",
      "Epoch 95/100\n",
      "31/31 [==============================] - 103s 3s/step - loss: 6.2179e-04 - accuracy: 1.0000 - val_loss: 0.0836 - val_accuracy: 0.9798\n",
      "Epoch 96/100\n",
      "31/31 [==============================] - 87s 3s/step - loss: 0.0024 - accuracy: 0.9983 - val_loss: 0.1028 - val_accuracy: 0.9758\n",
      "Epoch 97/100\n",
      "31/31 [==============================] - 83s 3s/step - loss: 2.4949e-04 - accuracy: 1.0000 - val_loss: 0.0972 - val_accuracy: 0.9839\n",
      "Epoch 98/100\n",
      "31/31 [==============================] - 66s 2s/step - loss: 1.6032e-04 - accuracy: 1.0000 - val_loss: 0.0994 - val_accuracy: 0.9839\n",
      "Epoch 99/100\n",
      "31/31 [==============================] - 75s 2s/step - loss: 3.8193e-04 - accuracy: 1.0000 - val_loss: 0.1027 - val_accuracy: 0.9839\n",
      "Epoch 100/100\n",
      "31/31 [==============================] - 74s 2s/step - loss: 4.9691e-04 - accuracy: 1.0000 - val_loss: 0.1027 - val_accuracy: 0.9758\n"
     ]
    }
   ],
   "source": [
    "checkpoint = ModelCheckpoint('model-{epoch:03d}.model',monitor='val_loss',verbose=0,save_best_only=True,mode='auto')\n",
    "history=model.fit(train_data,train_target,epochs=100,callbacks=[checkpoint],validation_split=0.2)"
   ]
  },
  {
   "cell_type": "code",
   "execution_count": 30,
   "metadata": {},
   "outputs": [],
   "source": [
    "from matplotlib import pyplot as plt"
   ]
  },
  {
   "cell_type": "code",
   "execution_count": 31,
   "metadata": {},
   "outputs": [
    {
     "data": {
      "image/png": "[encoded data removed]",
      "text/plain": [
       "<Figure size 432x288 with 1 Axes>"
      ]
     },
     "metadata": {},
     "output_type": "display_data"
    }
   ],
   "source": [
    "N = 100\n",
    "plt.style.use(\"ggplot\")\n",
    "plt.figure()\n",
    "plt.plot(np.arange(0, N), history.history[\"loss\"], label=\"train_loss\")\n",
    "plt.plot(np.arange(0, N), history.history[\"val_loss\"], label=\"val_loss\")\n",
    "plt.plot(np.arange(0, N), history.history[\"accuracy\"], label=\"train_acc\")\n",
    "plt.plot(np.arange(0, N), history.history[\"val_accuracy\"], label=\"val_acc\")\n",
    "plt.title(\"Training Loss and Accuracy\")\n",
    "plt.xlabel(\"Epoch #\")\n",
    "plt.ylabel(\"Loss/Accuracy\")\n",
    "plt.legend(loc=\"center right\")\n",
    "plt.savefig(\"CNN_Model\")"
   ]
  },
  {
   "cell_type": "code",
   "execution_count": null,
   "metadata": {},
   "outputs": [],
   "source": []
  }
 ],
 "metadata": {
  "kernelspec": {
   "display_name": "Python 3",
   "language": "python",
   "name": "python3"
  },
  "language_info": {
   "codemirror_mode": {
    "name": "ipython",
    "version": 3
   },
   "file_extension": ".py",
   "mimetype": "text/x-python",
   "name": "python",
   "nbconvert_exporter": "python",
   "pygments_lexer": "ipython3",
   "version": "3.8.5"
  }
 },
 "nbformat": 4,
 "nbformat_minor": 4
}
